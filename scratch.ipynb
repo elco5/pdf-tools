{
 "cells": [
  {
   "cell_type": "code",
   "execution_count": 5,
   "metadata": {},
   "outputs": [
    {
     "name": "stdout",
     "output_type": "stream",
     "text": [
      "Eaton\n",
      "10kA\n"
     ]
    }
   ],
   "source": [
    "line = \"Test Device: Eaton 10kA MAIN w/ Square D 125\"\n",
    "MCB_brand = line.split(\":\")[1].split('w/')[0].strip().split(' ')[0]\n",
    "MCB_aisc = line.split(\":\")[1].split('w/')[0].strip().split(' ')[1]\n",
    "print(MCB_brand)\n",
    "print(MCB_aisc)"
   ]
  },
  {
   "cell_type": "code",
   "execution_count": 29,
   "metadata": {},
   "outputs": [
    {
     "name": "stdout",
     "output_type": "stream",
     "text": [
      "main_brand: Eaton\n",
      "main_aisc_ka: 10\n",
      "branch_brand: Square D\n",
      "branch_rating: 125\n",
      "\n"
     ]
    }
   ],
   "source": [
    "\n",
    "line = \"Test Device: Eaton 10kA MAIN w/ Square D 125\"\n",
    "\n",
    "import re\n",
    "\n",
    "def parse_test_device(line):\n",
    "    \"\"\"\n",
    "    Parse and extract information from a test device line.\n",
    "\n",
    "    This function takes a line of text that contains information about a test device, such as the main and branch attributes,\n",
    "    and extracts and organizes that information into a structured dictionary.\n",
    "\n",
    "    Args:\n",
    "        line (str): A string containing test device information in the format \"Test Device: ...\".\n",
    "\n",
    "    Returns:\n",
    "        str: A formatted text representation of the parsed test device information, including brand, aisc_ka, branch brand, and rating.\n",
    "    \"\"\"\n",
    "    \n",
    "    # Initialize a dictionary to store the parsed test device information\n",
    "    test_device = {\n",
    "        \"main\": {\n",
    "            \"brand\": None,\n",
    "            \"aisc_ka\": None,\n",
    "        },\n",
    "        \"branch\": {\n",
    "            \"brand\": None,\n",
    "            \"rating\": None,\n",
    "        }\n",
    "    }\n",
    "\n",
    "    # Use regular expression to extract the non-numeric part for main brand\n",
    "    main_brand = re.search(r'[^0-9]+', line.split(\":\")[1].split('w/')[0])\n",
    "\n",
    "    # Use regular expression to extract the numeric part for main aisc_ka\n",
    "    main_aisc_ka = re.search(r'(\\d+)', line.split(\":\")[1].split('w/')[0])\n",
    "\n",
    "    # Use regular expression to extract the non-numeric part for branch brand\n",
    "    branch_brand = re.search(r'[^0-9]+', line.split(\":\")[1].split('w/')[1])\n",
    "\n",
    "    # Use regular expression to extract the numeric part for branch rating\n",
    "    branch_rating = re.search(r'(\\d+)', line.split(\":\")[1].split('w/')[1])\n",
    "\n",
    "    # Update the test_device dictionary with extracted values\n",
    "    if main_brand:\n",
    "        test_device[\"main\"][\"brand\"] = main_brand.group().strip()\n",
    "\n",
    "    if main_aisc_ka:\n",
    "        test_device[\"main\"][\"aisc_ka\"] = main_aisc_ka.group(1)\n",
    "\n",
    "    if branch_brand:\n",
    "        test_device[\"branch\"][\"brand\"] = branch_brand.group().strip()\n",
    "\n",
    "    if branch_rating:\n",
    "        test_device[\"branch\"][\"rating\"] = branch_rating.group()\n",
    "\n",
    "    # Initialize an empty string to store the result\n",
    "    text_result = ''\n",
    "\n",
    "    # Iterate through the top-level keys ('main' and 'branch')\n",
    "    for category, attributes in test_device.items():\n",
    "        for attribute, value in attributes.items():\n",
    "            text_result += f'{category}_{attribute}: {value}\\n'\n",
    "\n",
    "    return text_result\n",
    "\n",
    "\n",
    "print(parse_test_device(line))"
   ]
  },
  {
   "cell_type": "code",
   "execution_count": 4,
   "metadata": {},
   "outputs": [
    {
     "name": "stdout",
     "output_type": "stream",
     "text": [
      "['Test Device', ' Eaton 10kA MAIN w/ Square D 125']\n"
     ]
    }
   ],
   "source": [
    "line = \"Test Device: Eaton 10kA MAIN w/ Square D 125\"\n",
    "print(line.split(\":\"))\n"
   ]
  }
 ],
 "metadata": {
  "kernelspec": {
   "display_name": "Python 3",
   "language": "python",
   "name": "python3"
  },
  "language_info": {
   "codemirror_mode": {
    "name": "ipython",
    "version": 3
   },
   "file_extension": ".py",
   "mimetype": "text/x-python",
   "name": "python",
   "nbconvert_exporter": "python",
   "pygments_lexer": "ipython3",
   "version": "3.10.2"
  },
  "orig_nbformat": 4,
  "vscode": {
   "interpreter": {
    "hash": "369f2c481f4da34e4445cda3fffd2e751bd1c4d706f27375911949ba6bb62e1c"
   }
  }
 },
 "nbformat": 4,
 "nbformat_minor": 2
}

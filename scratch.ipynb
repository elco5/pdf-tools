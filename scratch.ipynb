{
 "cells": [
  {
   "cell_type": "code",
   "execution_count": 9,
   "metadata": {},
   "outputs": [
    {
     "name": "stdout",
     "output_type": "stream",
     "text": [
      "Eaton\n",
      "10kA\n"
     ]
    }
   ],
   "source": [
    "line = \"Test Device: Eaton 10kA MAIN w/ Square D 125Sample No.: 1Oscillogram No.:  HPL3-77434   OCV = 244 V\"\n",
    "MCB = line.split(\":\")[1].split('w/')[0].strip().split(' ')[0]\n",
    "AISC = line.split(\":\")[1].split('w/')[0].strip().split(' ')[1]\n",
    "# print(MCB)\n",
    "# print(AISC)"
   ]
  },
  {
   "cell_type": "code",
   "execution_count": 15,
   "metadata": {},
   "outputs": [
    {
     "name": "stdout",
     "output_type": "stream",
     "text": [
      "['Test Device', ' Eaton 10kA MAIN w/ Square D 125Sample No.', ' 1Oscillogram No.', '  HPL3-77434   OCV = 244 V']\n",
      "Test Device: Eaton 10kA MAIN w/ Square D 125 \n",
      "Sample No.: 1\n",
      "Oscillogram No.:  HPL3-77434   OCV = 244 V\n"
     ]
    }
   ],
   "source": [
    "line = \"Test Device: Eaton 10kA MAIN w/ Square D 125Sample No.: 1Oscillogram No.:  HPL3-77434   OCV = 244 V\"\n",
    "print(line.split(\":\"))\n",
    "s = line.replace(\"Sample No.:\", \" \\nSample No.:\" ).replace(\"Oscillogram No.:\",\"\\nOscillogram No.:\")\n",
    "\n",
    "print(s)"
   ]
  }
 ],
 "metadata": {
  "kernelspec": {
   "display_name": "Python 3",
   "language": "python",
   "name": "python3"
  },
  "language_info": {
   "codemirror_mode": {
    "name": "ipython",
    "version": 3
   },
   "file_extension": ".py",
   "mimetype": "text/x-python",
   "name": "python",
   "nbconvert_exporter": "python",
   "pygments_lexer": "ipython3",
   "version": "3.10.2"
  },
  "orig_nbformat": 4,
  "vscode": {
   "interpreter": {
    "hash": "369f2c481f4da34e4445cda3fffd2e751bd1c4d706f27375911949ba6bb62e1c"
   }
  }
 },
 "nbformat": 4,
 "nbformat_minor": 2
}

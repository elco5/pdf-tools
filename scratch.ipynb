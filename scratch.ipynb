{
 "cells": [
  {
   "cell_type": "code",
   "execution_count": 5,
   "metadata": {},
   "outputs": [
    {
     "name": "stdout",
     "output_type": "stream",
     "text": [
      "Eaton\n",
      "10kA\n"
     ]
    }
   ],
   "source": [
    "line = \"Test Device: Eaton 10kA MAIN w/ Square D 125\"\n",
    "MCB_brand = line.split(\":\")[1].split('w/')[0].strip().split(' ')[0]\n",
    "MCB_aisc = line.split(\":\")[1].split('w/')[0].strip().split(' ')[1]\n",
    "print(MCB_brand)\n",
    "print(MCB_aisc)"
   ]
  },
  {
   "cell_type": "code",
   "execution_count": 25,
   "metadata": {},
   "outputs": [
    {
     "name": "stdout",
     "output_type": "stream",
     "text": [
      "{'main': {'brand': 'Eaton', 'aisc_ka': '10'}, 'branch': {'brand': 'Square D', 'rating': '125'}}\n"
     ]
    }
   ],
   "source": [
    "import re\n",
    "line = \"Test Device: Eaton 10kA MAIN w/ Square D 125\"\n",
    "test_device = {\n",
    "    \"main\": {\n",
    "        \"brand\":None,\n",
    "        \"aisc_ka\":None,\n",
    "    },\n",
    "    \"branch\": {\n",
    "        \"brand\":None,\n",
    "        \"rating\":None,\n",
    "    }\n",
    "}\n",
    "\n",
    "\n",
    "# Use regular expression to extract the non-numeric part\n",
    "main_brand = re.search(r'[^0-9]+', line.split(\":\")[1].split('w/')[0])\n",
    "# Use regular expression to extract the numeric part\n",
    "main_aisc_ka = re.search(r'(\\d+)', line.split(\":\")[1].split('w/')[0])\n",
    "\n",
    "branch_brand = re.search(r'[^0-9]+', line.split(\":\")[1].split('w/')[1])\n",
    "branch_rating = re.search(r'(\\d+)', line.split(\":\")[1].split('w/')[1])\n",
    "\n",
    "\n",
    "if main_brand:\n",
    "    test_device[\"main\"][\"brand\"] = main_brand.group().strip()\n",
    "\n",
    "if main_asic_ka:\n",
    "    test_device[\"main\"][\"aisc_ka\"] = main_aisc_ka.group(1)\n",
    "\n",
    "if branch_brand:\n",
    "    test_device[\"branch\"][\"brand\"] = branch_brand.group().strip()\n",
    "\n",
    "if branch_rating:\n",
    "    test_device[\"branch\"][\"rating\"] = branch_rating.group()\n",
    "\n",
    "\n",
    "\n",
    "\n",
    "\n",
    "\n",
    "print(test_device)"
   ]
  },
  {
   "cell_type": "code",
   "execution_count": 4,
   "metadata": {},
   "outputs": [
    {
     "name": "stdout",
     "output_type": "stream",
     "text": [
      "['Test Device', ' Eaton 10kA MAIN w/ Square D 125']\n"
     ]
    }
   ],
   "source": [
    "line = \"Test Device: Eaton 10kA MAIN w/ Square D 125\"\n",
    "print(line.split(\":\"))\n"
   ]
  }
 ],
 "metadata": {
  "kernelspec": {
   "display_name": "Python 3",
   "language": "python",
   "name": "python3"
  },
  "language_info": {
   "codemirror_mode": {
    "name": "ipython",
    "version": 3
   },
   "file_extension": ".py",
   "mimetype": "text/x-python",
   "name": "python",
   "nbconvert_exporter": "python",
   "pygments_lexer": "ipython3",
   "version": "3.10.2"
  },
  "orig_nbformat": 4,
  "vscode": {
   "interpreter": {
    "hash": "369f2c481f4da34e4445cda3fffd2e751bd1c4d706f27375911949ba6bb62e1c"
   }
  }
 },
 "nbformat": 4,
 "nbformat_minor": 2
}
